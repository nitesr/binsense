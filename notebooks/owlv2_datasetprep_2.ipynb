{
 "cells": [
  {
   "cell_type": "code",
   "execution_count": 1,
   "metadata": {},
   "outputs": [],
   "source": [
    "# !python -m pip install -r ../requirements.txt\n",
    "# !python -m pip install -e ../libs"
   ]
  },
  {
   "cell_type": "markdown",
   "metadata": {},
   "source": [
    "# What is this notebook for ?\n",
    "\n",
    "As a pretask to annotate the training data, we will do below tasks\n",
    "1. Filter the train data split prepared in owlv2_datasetprep_1.ipynb notebook\n",
    "2. Annotate the images with bounding boxes predicted by owlv2 model\n",
    "3. Prepare the dataset and upload to roboflow\n",
    "4. (in roboflow) adjust the bounding boxes and labels."
   ]
  },
  {
   "cell_type": "markdown",
   "metadata": {},
   "source": [
    "## Validate the train/val before pre-annotating"
   ]
  },
  {
   "cell_type": "code",
   "execution_count": 2,
   "metadata": {},
   "outputs": [
    {
     "name": "stdout",
     "output_type": "stream",
     "text": [
      "check(No duplicate bins): True\n"
     ]
    }
   ],
   "source": [
    "from binsense.config import BIN_DATA_DIR\n",
    "import pandas as pd\n",
    "import os\n",
    "\n",
    "file_path = os.path.join(BIN_DATA_DIR, 'train_test_val_split_item.csv')\n",
    "item_df = pd.read_csv(file_path, dtype={'image_name': str, 'bbox_label': str})\n",
    "item_df = item_df[[\"image_name\", \"tag\", \"bbox_label\", \"bbox_count\"]]\n",
    "\n",
    "# filter for train data and get bin_ids\n",
    "train_item_df = item_df[item_df[\"tag\"] != \"test\"]\n",
    "train_bin_df = train_item_df[[\"image_name\", \"tag\"]].drop_duplicates(ignore_index=True)\n",
    "print('check(No duplicate bins):', train_bin_df.shape[0] == train_bin_df[\"image_name\"].nunique())"
   ]
  },
  {
   "cell_type": "markdown",
   "metadata": {},
   "source": [
    "## Pre-annotate the images with the bounding boxes predicted by OWLv2 model\n",
    "We can use any other model. I found OWLv2 (based on CLIP, trained on social net images) seems to be good enough for now. Haven't tried other models."
   ]
  },
  {
   "cell_type": "code",
   "execution_count": 4,
   "metadata": {},
   "outputs": [
    {
     "name": "stderr",
     "output_type": "stream",
     "text": [
      "2024-03-30 19:12:14,520 INFO : backed up /Users/n0c09jf/code/github/binsense/_data/bin/pre-annotate_labels.cpt as /Users/n0c09jf/code/github/binsense/_data/bin/pre-annotate_labels.cpt.11.bkp\n",
      "2024-03-30 19:12:14,525 INFO : backed up /Users/n0c09jf/code/github/binsense/_data/bin/pre-annotate_bboxes.cpt as /Users/n0c09jf/code/github/binsense/_data/bin/pre-annotate_bboxes.cpt.12.bkp\n",
      "2024-03-30 19:12:45,531 INFO : predicting bboxes:   0%|          | 0/5 [00:30<?, ?it/s]\n",
      "2024-03-30 19:13:27,643 INFO : predicting bboxes:  20%|██        | 1/5 [01:12<02:03, 30.80s/it]\n",
      "2024-03-30 19:14:16,297 INFO : predicting bboxes:  40%|████      | 2/5 [02:01<01:52, 37.45s/it]\n",
      "2024-03-30 19:15:04,142 INFO : predicting bboxes:  60%|██████    | 3/5 [02:49<01:25, 42.57s/it]\n",
      "2024-03-30 19:15:50,592 INFO : predicting bboxes:  80%|████████  | 4/5 [03:35<00:44, 44.65s/it]\n"
     ]
    },
    {
     "data": {
      "text/plain": [
       "('/Users/n0c09jf/code/github/binsense/_data/bin/pre-annotate_labels.cpt',\n",
       " '/Users/n0c09jf/code/github/binsense/_data/bin/pre-annotate_bboxes.cpt')"
      ]
     },
     "execution_count": 4,
     "metadata": {},
     "output_type": "execute_result"
    }
   ],
   "source": [
    "from binsense.cli.owlv2.run_preannotator import run_annotate\n",
    "\n",
    "import logging\n",
    "logging.basicConfig(level=logging.INFO, format='%(asctime)s %(levelname)s : %(message)s')\n",
    "\n",
    "run_annotate(batch_size=2, test_run=True)"
   ]
  },
  {
   "cell_type": "markdown",
   "metadata": {},
   "source": [
    "## Prepare the folder in Yolov8 format to be uploaded to Roboflow\n",
    "Roboflow supports only yolov8 format to upload using browser. I tried COCO and VOC formats but I had issues with seeing the annotations after uploading."
   ]
  },
  {
   "cell_type": "code",
   "execution_count": 1,
   "metadata": {},
   "outputs": [
    {
     "name": "stdout",
     "output_type": "stream",
     "text": [
      "upload dir (/Users/n0c09jf/code/github/binsense/_data/bin/robo_upload) prepared in yolov8 format\n"
     ]
    }
   ],
   "source": [
    "from binsense.cli.owlv2.run_preannotator import run_create_dataset\n",
    "\n",
    "run_create_dataset()"
   ]
  },
  {
   "cell_type": "markdown",
   "metadata": {},
   "source": [
    "## Manually upload the directory prepared on app.roboflow.com\n",
    "1. Create a object detection project with 'bins' as annotation group\n",
    "2. Select the project, go to 'Upload Data' selection\n",
    "3. Drag and drop the folder prepared (above cell)"
   ]
  },
  {
   "cell_type": "markdown",
   "metadata": {},
   "source": [
    "## Prepare csv file to be sharded with Annotators"
   ]
  },
  {
   "cell_type": "code",
   "execution_count": 2,
   "metadata": {},
   "outputs": [
    {
     "name": "stderr",
     "output_type": "stream",
     "text": [
      "loading bin-metadata: 100%|██████████| 3875/3875 [01:23<00:00, 46.19it/s]\n"
     ]
    }
   ],
   "source": [
    "\n",
    "from binsense.config import BIN_DATA_DIR\n",
    "import binsense.dataprep.metadata as m\n",
    "import os, logging\n",
    "\n",
    "logging.basicConfig(level=logging.INFO, format='%(asctime)s %(levelname)s : %(message)s')\n",
    "\n",
    "_, all_item_df = m.load()\n",
    "all_item_df[\"image_name\"] = all_item_df[\"bin_id\"] + '.jpg'\n",
    "first_column = all_item_df.pop('image_name') \n",
    "all_item_df.insert(0, 'image_name', first_column) \n",
    "all_item_df.sort_values(by=[\"bin_id\", \"item_id\"], inplace=True)\n",
    "all_item_df.drop([\"bin_id\"], axis=1, inplace=True)\n",
    "all_item_df.to_csv(\n",
    "    os.path.join(BIN_DATA_DIR, 'data_for_annotators.csv'),\n",
    "    index=False\n",
    ")"
   ]
  }
 ],
 "metadata": {
  "kernelspec": {
   "display_name": "binsense_condaenv",
   "language": "python",
   "name": "python3"
  },
  "language_info": {
   "codemirror_mode": {
    "name": "ipython",
    "version": 3
   },
   "file_extension": ".py",
   "mimetype": "text/x-python",
   "name": "python",
   "nbconvert_exporter": "python",
   "pygments_lexer": "ipython3",
   "version": "3.11.8"
  }
 },
 "nbformat": 4,
 "nbformat_minor": 2
}
