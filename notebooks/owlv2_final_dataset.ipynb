{
 "cells": [
  {
   "cell_type": "markdown",
   "metadata": {},
   "source": [
    "# What is this notebook for ?\n",
    "\n",
    "Once we have the final dataset to be passed to owl model\n",
    "1. Analyze the distribution"
   ]
  },
  {
   "cell_type": "code",
   "execution_count": 1,
   "metadata": {},
   "outputs": [
    {
     "data": {
      "text/html": [
       "<div>\n",
       "<style scoped>\n",
       "    .dataframe tbody tr th:only-of-type {\n",
       "        vertical-align: middle;\n",
       "    }\n",
       "\n",
       "    .dataframe tbody tr th {\n",
       "        vertical-align: top;\n",
       "    }\n",
       "\n",
       "    .dataframe thead th {\n",
       "        text-align: right;\n",
       "    }\n",
       "</style>\n",
       "<table border=\"1\" class=\"dataframe\">\n",
       "  <thead>\n",
       "    <tr style=\"text-align: right;\">\n",
       "      <th></th>\n",
       "      <th>query_label</th>\n",
       "      <th>image_relpath</th>\n",
       "      <th>count</th>\n",
       "      <th>tag</th>\n",
       "    </tr>\n",
       "  </thead>\n",
       "  <tbody>\n",
       "    <tr>\n",
       "      <th>0</th>\n",
       "      <td>B00KOW827M</td>\n",
       "      <td>filtered_dataset/train/images/00942.jpg</td>\n",
       "      <td>1</td>\n",
       "      <td>train</td>\n",
       "    </tr>\n",
       "    <tr>\n",
       "      <th>1</th>\n",
       "      <td>B012Q4M3DO</td>\n",
       "      <td>filtered_dataset/train/images/01960.jpg</td>\n",
       "      <td>1</td>\n",
       "      <td>train</td>\n",
       "    </tr>\n",
       "    <tr>\n",
       "      <th>2</th>\n",
       "      <td>B01BZYSCP4</td>\n",
       "      <td>filtered_dataset/train/images/02320.jpg</td>\n",
       "      <td>1</td>\n",
       "      <td>train</td>\n",
       "    </tr>\n",
       "    <tr>\n",
       "      <th>3</th>\n",
       "      <td>1563682826</td>\n",
       "      <td>filtered_dataset/train/images/02594.jpg</td>\n",
       "      <td>4</td>\n",
       "      <td>train</td>\n",
       "    </tr>\n",
       "    <tr>\n",
       "      <th>4</th>\n",
       "      <td>B00P20NJP6</td>\n",
       "      <td>filtered_dataset/train/images/02594.jpg</td>\n",
       "      <td>1</td>\n",
       "      <td>train</td>\n",
       "    </tr>\n",
       "  </tbody>\n",
       "</table>\n",
       "</div>"
      ],
      "text/plain": [
       "  query_label                            image_relpath  count    tag\n",
       "0  B00KOW827M  filtered_dataset/train/images/00942.jpg      1  train\n",
       "1  B012Q4M3DO  filtered_dataset/train/images/01960.jpg      1  train\n",
       "2  B01BZYSCP4  filtered_dataset/train/images/02320.jpg      1  train\n",
       "3  1563682826  filtered_dataset/train/images/02594.jpg      4  train\n",
       "4  B00P20NJP6  filtered_dataset/train/images/02594.jpg      1  train"
      ]
     },
     "execution_count": 1,
     "metadata": {},
     "output_type": "execute_result"
    }
   ],
   "source": [
    "from binsense.dataprep.config import DataPrepConfig\n",
    "import pandas as pd\n",
    "\n",
    "cfg = DataPrepConfig()\n",
    "df = pd.read_csv(cfg.inimage_queries_csv)[[\"query_label\", \"image_relpath\", \"count\", \"tag\"]]\n",
    "df.head()"
   ]
  },
  {
   "cell_type": "code",
   "execution_count": 2,
   "metadata": {},
   "outputs": [
    {
     "data": {
      "text/plain": [
       "tag\n",
       "test      78\n",
       "train    569\n",
       "valid     43\n",
       "Name: count, dtype: int64"
      ]
     },
     "execution_count": 2,
     "metadata": {},
     "output_type": "execute_result"
    }
   ],
   "source": [
    "df.groupby(\"tag\").aggregate(\"count\")[\"count\"]"
   ]
  },
  {
   "cell_type": "code",
   "execution_count": 3,
   "metadata": {},
   "outputs": [
    {
     "data": {
      "text/plain": [
       "tag    query_type\n",
       "test   False          10\n",
       "       True           68\n",
       "train  False          54\n",
       "       True          515\n",
       "valid  False           5\n",
       "       True           38\n",
       "Name: count, dtype: int64"
      ]
     },
     "execution_count": 3,
     "metadata": {},
     "output_type": "execute_result"
    }
   ],
   "source": [
    "df[\"query_type\"] = df[\"count\"] > 0\n",
    "df.groupby(by=[\"tag\", \"query_type\"]).aggregate(\"count\")[\"count\"]"
   ]
  },
  {
   "cell_type": "code",
   "execution_count": 4,
   "metadata": {},
   "outputs": [
    {
     "name": "stdout",
     "output_type": "stream",
     "text": [
      "train\n",
      " count    334.000000\n",
      "mean       1.703593\n",
      "std        0.750687\n",
      "min        1.000000\n",
      "25%        1.000000\n",
      "50%        2.000000\n",
      "75%        2.000000\n",
      "max        4.000000\n",
      "Name: count, dtype: float64\n",
      "test\n",
      " count    68.000000\n",
      "mean      1.147059\n",
      "std       0.396428\n",
      "min       1.000000\n",
      "25%       1.000000\n",
      "50%       1.000000\n",
      "75%       1.000000\n",
      "max       3.000000\n",
      "Name: count, dtype: float64\n"
     ]
    }
   ],
   "source": [
    "print(\"train\\n\", df.query(\"tag == 'train'\").groupby(\\\n",
    "    by=[\"query_label\"])\\\n",
    "    .aggregate(\"count\")[\"count\"].describe())\n",
    "\n",
    "print(\"test\\n\", df.query(\"tag == 'test'\").groupby(\\\n",
    "    by=[\"query_label\"])\\\n",
    "    .aggregate(\"count\")[\"count\"].describe())\n"
   ]
  },
  {
   "cell_type": "code",
   "execution_count": 5,
   "metadata": {},
   "outputs": [
    {
     "name": "stdout",
     "output_type": "stream",
     "text": [
      "train\n",
      " count\n",
      "0      54\n",
      "1     384\n",
      "2      69\n",
      "3      33\n",
      "4      20\n",
      "5       2\n",
      "6       1\n",
      "9       1\n",
      "10      2\n",
      "14      3\n",
      "Name: tag, dtype: int64\n"
     ]
    }
   ],
   "source": [
    "print(\"train\\n\", df.query(\"tag == 'train'\").groupby(\\\n",
    "    by=[\"count\"]).aggregate(\"count\")[\"tag\"])"
   ]
  }
 ],
 "metadata": {
  "kernelspec": {
   "display_name": "binsense_condaenv",
   "language": "python",
   "name": "python3"
  },
  "language_info": {
   "codemirror_mode": {
    "name": "ipython",
    "version": 3
   },
   "file_extension": ".py",
   "mimetype": "text/x-python",
   "name": "python",
   "nbconvert_exporter": "python",
   "pygments_lexer": "ipython3",
   "version": "3.11.8"
  }
 },
 "nbformat": 4,
 "nbformat_minor": 2
}
