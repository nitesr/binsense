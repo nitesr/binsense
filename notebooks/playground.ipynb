{
 "cells": [
  {
   "cell_type": "code",
   "execution_count": 2,
   "metadata": {},
   "outputs": [
    {
     "name": "stdout",
     "output_type": "stream",
     "text": [
      "70.44s - pydevd: Sending message related to process being replaced timed-out after 5 seconds\n",
      "Obtaining file:///Users/n0c09jf/code/github/binsense/libs\n",
      "  Installing build dependencies ... \u001b[?25ldone\n",
      "\u001b[?25h  Checking if build backend supports build_editable ... \u001b[?25ldone\n",
      "\u001b[?25h  Getting requirements to build editable ... \u001b[?25ldone\n",
      "\u001b[?25h  Preparing editable metadata (pyproject.toml) ... \u001b[?25ldone\n",
      "\u001b[?25hBuilding wheels for collected packages: binsense-libs\n",
      "  Building editable for binsense-libs (pyproject.toml) ... \u001b[?25ldone\n",
      "\u001b[?25h  Created wheel for binsense-libs: filename=binsense_libs-0.0.1-py2.py3-none-any.whl size=1137 sha256=8524b93cea3793ac8f93136a46b3b775f211868867a04c7e319690205c497b92\n",
      "  Stored in directory: /private/var/folders/vm/2g2pvy116zzglvllmm0n_f100000gx/T/pip-ephem-wheel-cache-ibxzsdqi/wheels/77/72/16/1e76e1dcd0e567ae2a1096c6d731674e5dee84ed8ab15b770d\n",
      "Successfully built binsense-libs\n",
      "Installing collected packages: binsense-libs\n",
      "  Attempting uninstall: binsense-libs\n",
      "    Found existing installation: binsense-libs 0.0.1\n",
      "    Uninstalling binsense-libs-0.0.1:\n",
      "      Successfully uninstalled binsense-libs-0.0.1\n",
      "Successfully installed binsense-libs-0.0.1\n"
     ]
    }
   ],
   "source": [
    "# install packages in libs (as editable)\n",
    "!python -m pip install -e ../libs"
   ]
  },
  {
   "cell_type": "code",
   "execution_count": 1,
   "metadata": {},
   "outputs": [
    {
     "name": "stdout",
     "output_type": "stream",
     "text": [
      "/Users/n0c09jf/code/github/binsense/_data\n"
     ]
    },
    {
     "name": "stderr",
     "output_type": "stream",
     "text": [
      "loading bin-metadata: 100%|██████████| 3875/3875 [00:43<00:00, 90.09it/s] "
     ]
    },
    {
     "name": "stdout",
     "output_type": "stream",
     "text": [
      "(3875, 6) (10144, 12)\n"
     ]
    },
    {
     "name": "stderr",
     "output_type": "stream",
     "text": [
      "\n"
     ]
    }
   ],
   "source": [
    "from binsense.config import DATA_DIR\n",
    "print(DATA_DIR)\n",
    "\n",
    "import binsense.downloader as d\n",
    "d.download()\n",
    "\n",
    "import binsense.metadata as m\n",
    "bin_df, item_df = m.load()\n",
    "print(bin_df.shape, item_df.shape)\n"
   ]
  }
 ],
 "metadata": {
  "kernelspec": {
   "display_name": "binsense1_env",
   "language": "python",
   "name": "python3"
  },
  "language_info": {
   "codemirror_mode": {
    "name": "ipython",
    "version": 3
   },
   "file_extension": ".py",
   "mimetype": "text/x-python",
   "name": "python",
   "nbconvert_exporter": "python",
   "pygments_lexer": "ipython3",
   "version": "3.11.8"
  }
 },
 "nbformat": 4,
 "nbformat_minor": 2
}
